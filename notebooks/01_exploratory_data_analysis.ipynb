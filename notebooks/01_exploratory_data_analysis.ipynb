{
  "cells": [
    {
      "cell_type": "markdown",
      "metadata": {},
      "source": [
        "# NFL Data Exploratory Analysis\n",
        "\n",
        "This notebook explores the NFL data loaded from nflfastR to understand patterns and prepare for model development.\n",
        "\n",
        "## Contents\n",
        "1. Data Loading\n",
        "2. Basic Statistics\n",
        "3. Team Performance Analysis\n",
        "4. Feature Exploration\n",
        "5. Target Variable Analysis\n"
      ]
    },
    {
      "cell_type": "code",
      "execution_count": null,
      "metadata": {},
      "outputs": [],
      "source": [
        "# Setup and imports\n",
        "import sys\n",
        "import os\n",
        "sys.path.insert(0, os.path.abspath('../src'))\n",
        "\n",
        "import pandas as pd\n",
        "import numpy as np\n",
        "import matplotlib.pyplot as plt\n",
        "import seaborn as sns\n",
        "from pathlib import Path\n",
        "import warnings\n",
        "warnings.filterwarnings('ignore')\n",
        "\n",
        "# Set plotting style\n",
        "plt.style.use('seaborn-v0_8-darkgrid')\n",
        "sns.set_palette(\"husl\")\n",
        "\n",
        "# Import our modules\n",
        "from data.nfl_data_loader import NFLDataLoader\n",
        "from data.data_processor import NFLDataProcessor\n",
        "from utils.config import get_config\n",
        "from utils.logger import setup_logger\n",
        "\n",
        "# Initialize\n",
        "logger = setup_logger(\"eda_notebook\")\n",
        "config = get_config()\n",
        "\n",
        "print(\"Setup complete!\")\n"
      ]
    },
    {
      "cell_type": "markdown",
      "metadata": {},
      "source": [
        "## 1. Data Loading\n",
        "\n",
        "Load NFL data using our data loader. For this example, we'll use sample data or cached data if available.\n"
      ]
    },
    {
      "cell_type": "code",
      "execution_count": null,
      "metadata": {},
      "outputs": [],
      "source": [
        "# Load data\n",
        "loader = NFLDataLoader()\n",
        "processor = NFLDataProcessor()\n",
        "\n",
        "# Try to load real data, fall back to sample if needed\n",
        "seasons = [2022, 2023]\n",
        "\n",
        "try:\n",
        "    # Try loading from cache or API\n",
        "    pbp_data = loader.get_cached_data('pbp', seasons)\n",
        "    if pbp_data is None:\n",
        "        print(\"Creating sample data for demonstration...\")\n",
        "        # Create sample data\n",
        "        np.random.seed(42)\n",
        "        teams = ['BUF', 'KC', 'PHI', 'SF', 'DAL', 'MIA', 'CIN', 'MIN']\n",
        "        pbp_data = pd.DataFrame({\n",
        "            'game_id': np.repeat([f'2023_01_{teams[i]}_{teams[i+1]}' for i in range(0, len(teams), 2)], 50),\n",
        "            'play_id': range(200),\n",
        "            'posteam': np.random.choice(teams, 200),\n",
        "            'defteam': np.random.choice(teams, 200),\n",
        "            'home_team': np.random.choice(teams[:4], 200),\n",
        "            'away_team': np.random.choice(teams[4:], 200),\n",
        "            'play_type': np.random.choice(['pass', 'run'], 200),\n",
        "            'yards_gained': np.random.normal(5, 8, 200),\n",
        "            'epa': np.random.normal(0, 1.5, 200),\n",
        "            'wp': np.random.uniform(0.2, 0.8, 200),\n",
        "            'interception': np.random.choice([0, 1], 200, p=[0.95, 0.05]),\n",
        "            'fumble_lost': np.random.choice([0, 1], 200, p=[0.98, 0.02])\n",
        "        })\n",
        "except Exception as e:\n",
        "    print(f\"Error loading data: {e}\")\n",
        "    print(\"Using sample data...\")\n",
        "\n",
        "print(f\"Loaded {len(pbp_data)} plays\")\n",
        "pbp_data.head()\n"
      ]
    },
    {
      "cell_type": "markdown",
      "metadata": {},
      "source": [
        "## 2. Basic Statistics\n"
      ]
    },
    {
      "cell_type": "code",
      "execution_count": null,
      "metadata": {},
      "outputs": [],
      "source": [
        "# Basic statistics\n",
        "print(\"Dataset Overview:\")\n",
        "print(f\"Total plays: {len(pbp_data)}\")\n",
        "print(f\"Unique games: {pbp_data['game_id'].nunique()}\")\n",
        "print(f\"Unique teams: {pbp_data['posteam'].nunique()}\")\n",
        "print(\"\\nPlay type distribution:\")\n",
        "print(pbp_data['play_type'].value_counts())\n",
        "print(\"\\nNumeric columns summary:\")\n",
        "pbp_data[['yards_gained', 'epa', 'wp']].describe()\n"
      ]
    },
    {
      "cell_type": "markdown",
      "metadata": {},
      "source": [
        "## 3. Visualizations\n"
      ]
    },
    {
      "cell_type": "code",
      "execution_count": null,
      "metadata": {},
      "outputs": [],
      "source": [
        "# Create visualizations\n",
        "fig, axes = plt.subplots(2, 2, figsize=(14, 10))\n",
        "\n",
        "# Yards gained distribution\n",
        "axes[0, 0].hist(pbp_data['yards_gained'], bins=30, edgecolor='black', alpha=0.7)\n",
        "axes[0, 0].set_title('Distribution of Yards Gained per Play')\n",
        "axes[0, 0].set_xlabel('Yards Gained')\n",
        "axes[0, 0].set_ylabel('Frequency')\n",
        "axes[0, 0].axvline(pbp_data['yards_gained'].mean(), color='red', linestyle='--', label=f'Mean: {pbp_data[\"yards_gained\"].mean():.2f}')\n",
        "axes[0, 0].legend()\n",
        "\n",
        "# EPA distribution\n",
        "axes[0, 1].hist(pbp_data['epa'], bins=30, edgecolor='black', alpha=0.7, color='green')\n",
        "axes[0, 1].set_title('Distribution of EPA (Expected Points Added)')\n",
        "axes[0, 1].set_xlabel('EPA')\n",
        "axes[0, 1].set_ylabel('Frequency')\n",
        "axes[0, 1].axvline(0, color='red', linestyle='--', label='Zero EPA')\n",
        "axes[0, 1].legend()\n",
        "\n",
        "# Play type comparison\n",
        "play_stats = pbp_data.groupby('play_type')['yards_gained'].mean()\n",
        "axes[1, 0].bar(play_stats.index, play_stats.values, color=['blue', 'orange'])\n",
        "axes[1, 0].set_title('Average Yards by Play Type')\n",
        "axes[1, 0].set_xlabel('Play Type')\n",
        "axes[1, 0].set_ylabel('Average Yards')\n",
        "\n",
        "# Win probability distribution\n",
        "axes[1, 1].hist(pbp_data['wp'], bins=20, edgecolor='black', alpha=0.7, color='purple')\n",
        "axes[1, 1].set_title('Win Probability Distribution')\n",
        "axes[1, 1].set_xlabel('Win Probability')\n",
        "axes[1, 1].set_ylabel('Frequency')\n",
        "\n",
        "plt.tight_layout()\n",
        "plt.show()\n"
      ]
    }
  ],
  "metadata": {
    "language_info": {
      "name": "python"
    }
  },
  "nbformat": 4,
  "nbformat_minor": 2
}
